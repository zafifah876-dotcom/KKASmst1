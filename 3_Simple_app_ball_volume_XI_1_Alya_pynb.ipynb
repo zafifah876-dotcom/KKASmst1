{
  "nbformat": 4,
  "nbformat_minor": 0,
  "metadata": {
    "colab": {
      "provenance": [],
      "authorship_tag": "ABX9TyNc4hyob222WjaCp3aTy8uV",
      "include_colab_link": true
    },
    "kernelspec": {
      "name": "python3",
      "display_name": "Python 3"
    },
    "language_info": {
      "name": "python"
    }
  },
  "cells": [
    {
      "cell_type": "markdown",
      "metadata": {
        "id": "view-in-github",
        "colab_type": "text"
      },
      "source": [
        "<a href=\"https://colab.research.google.com/github/zafifah876-dotcom/KKASmst1/blob/main/3_Simple_app_ball_volume_XI_1_Alya_pynb.ipynb\" target=\"_parent\"><img src=\"https://colab.research.google.com/assets/colab-badge.svg\" alt=\"Open In Colab\"/></a>"
      ]
    },
    {
      "cell_type": "markdown",
      "source": [
        "#Nama:Afifatuzzahroh Ika Alya\n",
        "#Kelas:XI.1\n",
        "#Absen:1\n",
        "#Nama Kelompok: Hampested\n"
      ],
      "metadata": {
        "id": "tWIBGn9Pj-ik"
      }
    },
    {
      "cell_type": "code",
      "execution_count": null,
      "metadata": {
        "colab": {
          "base_uri": "https://localhost:8080/"
        },
        "id": "Ax1z6PdRjmlV",
        "outputId": "6de566b2-7f2f-45c9-acf9-a6e51ac557e7"
      },
      "outputs": [
        {
          "output_type": "stream",
          "name": "stdout",
          "text": [
            "Masukkan panjang alas segitiga (cm): 2706\n",
            "Masukkan tinggi segitiga (cm): 1327\n",
            "Masukkan tinggi prisma (cm): 2101\n",
            "Volume prisma segitiga adalah: 3772200531.0 cm³\n"
          ]
        }
      ],
      "source": [
        "alas = float(input(\"Masukkan panjang alas segitiga (cm): \"))\n",
        "tinggi_segitiga = float(input(\"Masukkan tinggi segitiga (cm): \"))\n",
        "tinggi_prisma = float(input(\"Masukkan tinggi prisma (cm): \"))\n",
        "\n",
        "volume = 0.5 * alas * tinggi_segitiga * tinggi_prisma\n",
        "\n",
        "print(f\"Volume prisma segitiga adalah: {volume} cm³\")\n"
      ]
    }
  ]
}