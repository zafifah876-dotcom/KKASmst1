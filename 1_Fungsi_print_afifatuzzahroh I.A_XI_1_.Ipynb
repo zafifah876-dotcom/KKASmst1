{
  "nbformat": 4,
  "nbformat_minor": 0,
  "metadata": {
    "colab": {
      "provenance": [],
      "authorship_tag": "ABX9TyP+kN/K6aB5rHreGxbmjE12",
      "include_colab_link": true
    },
    "kernelspec": {
      "name": "python3",
      "display_name": "Python 3"
    },
    "language_info": {
      "name": "python"
    }
  },
  "cells": [
    {
      "cell_type": "markdown",
      "metadata": {
        "id": "view-in-github",
        "colab_type": "text"
      },
      "source": [
        "<a href=\"https://colab.research.google.com/github/zafifah876-dotcom/KKASmst1/blob/main/1_Fungsi_print_afifatuzzahroh%20I.A_XI_1_.Ipynb\" target=\"_parent\"><img src=\"https://colab.research.google.com/assets/colab-badge.svg\" alt=\"Open In Colab\"/></a>"
      ]
    },
    {
      "cell_type": "markdown",
      "source": [
        "#Menampilkan Teks Bebas"
      ],
      "metadata": {
        "id": "UNRTEU4tGVal"
      }
    },
    {
      "cell_type": "code",
      "source": [
        "nama_siswa_1=\"Naufal\"\n",
        "nama_siswa_2=\"Favian\"\n",
        "nama_siswa_3=\"humaira\"\n",
        "nama_siswa_4=\"Favian\"\n",
        "\n",
        "\n",
        "print(nama_siswa_1,nama_siswa_2,nama_siswa_3,nama_siswa_4,sep=\"~\")"
      ],
      "metadata": {
        "colab": {
          "base_uri": "https://localhost:8080/"
        },
        "id": "1r-z7dKTFIa5",
        "outputId": "c35208b1-2c2b-4dd5-e6cb-1df5a71219f5"
      },
      "execution_count": null,
      "outputs": [
        {
          "output_type": "stream",
          "name": "stdout",
          "text": [
            "Naufal~Favian~humaira~Favian\n"
          ]
        }
      ]
    },
    {
      "cell_type": "code",
      "source": [
        "print(nama_siswa_1, end=\"~\")\n",
        "print(nama_siswa_2,)\n",
        "\n",
        "\n",
        "print(nama_siswa_3, end=\"~\")\n",
        "print(nama_siswa_2, )\n"
      ],
      "metadata": {
        "colab": {
          "base_uri": "https://localhost:8080/"
        },
        "id": "CdWXeCXQGYHn",
        "outputId": "0807954d-ea23-425f-b157-2fa24b1a9e91"
      },
      "execution_count": null,
      "outputs": [
        {
          "output_type": "stream",
          "name": "stdout",
          "text": [
            "Naufal~Favian\n",
            "humaira~Favian\n"
          ]
        }
      ]
    },
    {
      "cell_type": "markdown",
      "source": [
        "tugas selanjutkan parameter fungsi"
      ],
      "metadata": {
        "id": "BYnEuS6ZFI8e"
      }
    },
    {
      "cell_type": "markdown",
      "source": [],
      "metadata": {
        "id": "xOC_nj2wHNfm"
      }
    },
    {
      "cell_type": "markdown",
      "source": [],
      "metadata": {
        "id": "gHpgoQPSHQcZ"
      }
    },
    {
      "cell_type": "code",
      "source": [],
      "metadata": {
        "id": "dX6EujZ6HRB5"
      },
      "execution_count": null,
      "outputs": []
    },
    {
      "cell_type": "code",
      "source": [
        "ini umur=15"
      ],
      "metadata": {
        "id": "2nkblmhN_0Bo"
      },
      "execution_count": null,
      "outputs": []
    },
    {
      "cell_type": "markdown",
      "source": [],
      "metadata": {
        "id": "haO-Om3JHRza"
      }
    },
    {
      "cell_type": "markdown",
      "source": [],
      "metadata": {
        "id": "79ccKCJxu7oe"
      }
    },
    {
      "cell_type": "code",
      "source": [
        "print(f\"Umur saya{umur}tahun\")"
      ],
      "metadata": {
        "colab": {
          "base_uri": "https://localhost:8080/"
        },
        "id": "-C6C--9PI0MN",
        "outputId": "41f47751-e48d-4d0d-bb13-dc17e92415af"
      },
      "execution_count": null,
      "outputs": [
        {
          "output_type": "stream",
          "name": "stdout",
          "text": [
            "Umur saya15tahun\n"
          ]
        }
      ]
    },
    {
      "cell_type": "code",
      "source": [],
      "metadata": {
        "id": "Lv9Rml9pLTD3"
      },
      "execution_count": null,
      "outputs": []
    },
    {
      "cell_type": "markdown",
      "source": [],
      "metadata": {
        "id": "H-PsQ-C7KFIj"
      }
    },
    {
      "cell_type": "markdown",
      "source": [],
      "metadata": {
        "id": "xMNANiSRu9NX"
      }
    },
    {
      "cell_type": "markdown",
      "source": [],
      "metadata": {
        "id": "VQMHfEzbu9ry"
      }
    },
    {
      "cell_type": "markdown",
      "source": [
        "LATIHAN SOAL\n",
        "Latihan soal\n",
        "1. tampilkan teks bebas : Hari ini saya bahagia belajar bahasa python\n",
        "2. tampilkan nilai variabel : mata_pelajaran_favorit = kode dan kecerdasan buatan\n",
        "3. tampilkan nilai variabel : nilai_kka = 100\n",
        "4. tampilkan teks bebas dan nilai variabel dengan tiga metode (f string,\"+\",\",\"):\" Nilai KKA saya adalah {nilai_kka} loh!\"\n",
        "\n",
        "\n"
      ],
      "metadata": {
        "id": "LH591pF4u92b"
      }
    },
    {
      "cell_type": "markdown",
      "source": [],
      "metadata": {
        "id": "1zf8aaDlKFTu"
      }
    },
    {
      "cell_type": "code",
      "source": [
        "print(\"Hari ini saya bahagia belajar bahasa python \")"
      ],
      "metadata": {
        "colab": {
          "base_uri": "https://localhost:8080/"
        },
        "id": "JNCv79-wvZNB",
        "outputId": "e7954abc-6c79-45bc-cea3-3f61c74b2851"
      },
      "execution_count": null,
      "outputs": [
        {
          "output_type": "stream",
          "name": "stdout",
          "text": [
            "Hari ini saya bahagia belajar bahasa puthon \n"
          ]
        }
      ]
    },
    {
      "cell_type": "code",
      "source": [
        "print(\"nilai kka saya adalah\"//{nilai_kka}\"loh\")"
      ],
      "metadata": {
        "colab": {
          "base_uri": "https://localhost:8080/",
          "height": 163
        },
        "id": "bfgzlwrS06tP",
        "outputId": "b12cebe0-71a9-488e-d006-757a0b5f0187"
      },
      "execution_count": null,
      "outputs": [
        {
          "output_type": "error",
          "ename": "SyntaxError",
          "evalue": "invalid syntax. Perhaps you forgot a comma? (ipython-input-2439966009.py, line 1)",
          "traceback": [
            "\u001b[0;36m  File \u001b[0;32m\"/tmp/ipython-input-2439966009.py\"\u001b[0;36m, line \u001b[0;32m1\u001b[0m\n\u001b[0;31m    print(\"nilai kka saya adalah\"//{nilai_kka}\"loh\")\u001b[0m\n\u001b[0m          ^\u001b[0m\n\u001b[0;31mSyntaxError\u001b[0m\u001b[0;31m:\u001b[0m invalid syntax. Perhaps you forgot a comma?\n"
          ]
        }
      ]
    },
    {
      "cell_type": "code",
      "source": [
        "mata_pelajaran_favorit=\"Kode dan Kecerdasan Buatan\"\n",
        "print(mata_pelajaran_favorit)\n"
      ],
      "metadata": {
        "id": "TFqkubypKGF0",
        "colab": {
          "base_uri": "https://localhost:8080/"
        },
        "outputId": "6b0f5fce-522f-46e4-d989-e365b9970d36"
      },
      "execution_count": null,
      "outputs": [
        {
          "output_type": "stream",
          "name": "stdout",
          "text": [
            "Kode dan Kecerdasan Buatan\n"
          ]
        }
      ]
    },
    {
      "cell_type": "code",
      "source": [
        "nilai_kka=\"100\"\n",
        "print(nilai_kka)"
      ],
      "metadata": {
        "colab": {
          "base_uri": "https://localhost:8080/"
        },
        "id": "oireb-95vwHI",
        "outputId": "d7409425-49d5-4382-dca6-fd39c20cc7fa"
      },
      "execution_count": null,
      "outputs": [
        {
          "output_type": "stream",
          "name": "stdout",
          "text": [
            "100\n"
          ]
        }
      ]
    },
    {
      "cell_type": "markdown",
      "source": [],
      "metadata": {
        "id": "dHOK_pcAJGTm"
      }
    },
    {
      "cell_type": "code",
      "source": [
        "print(\"Nilai KKA saya adalah \",nilai_kka+\"loh\")"
      ],
      "metadata": {
        "id": "mHWGwkDvw0_8",
        "colab": {
          "base_uri": "https://localhost:8080/"
        },
        "outputId": "4c82e350-3df7-4e87-84c1-632767c29c4c"
      },
      "execution_count": null,
      "outputs": [
        {
          "output_type": "stream",
          "name": "stdout",
          "text": [
            "Nilai KKA saya adalah  100loh\n"
          ]
        }
      ]
    },
    {
      "cell_type": "markdown",
      "source": [
        "#Variabel"
      ],
      "metadata": {
        "id": "k-F4duEiHfzR"
      }
    },
    {
      "cell_type": "code",
      "source": [
        "print(\"Nama:Afifatuzzahroh Ika Alya\")\n",
        "print(\"Kelas: XI 1\")\n",
        "print(\"Nomor absen:1\")"
      ],
      "metadata": {
        "colab": {
          "base_uri": "https://localhost:8080/"
        },
        "id": "LIC_q8ONKOut",
        "outputId": "4bf23bd4-c889-4de3-ea50-29c6f10df543"
      },
      "execution_count": null,
      "outputs": [
        {
          "output_type": "stream",
          "name": "stdout",
          "text": [
            "Nama:Afifatuzzahroh Ika Alya\n",
            "Kelas: XI 1\n",
            "Nomor absen:1\n"
          ]
        }
      ]
    },
    {
      "cell_type": "code",
      "source": [],
      "metadata": {
        "id": "rzI3gddQEKkI"
      },
      "execution_count": null,
      "outputs": []
    },
    {
      "cell_type": "code",
      "source": [
        "print(\"Lokasi file video karnaval ada di D:\\\\Karnaval 2025\\\\mp4\")"
      ],
      "metadata": {
        "colab": {
          "base_uri": "https://localhost:8080/"
        },
        "id": "oyh7FCTQEK5M",
        "outputId": "30f74038-aae5-4fb4-dae4-e41aab634ece"
      },
      "execution_count": null,
      "outputs": [
        {
          "output_type": "stream",
          "name": "stdout",
          "text": [
            "Lokasi file video karnaval ada di D:\\Karnaval 2025\\mp4\n"
          ]
        }
      ]
    },
    {
      "cell_type": "code",
      "source": [],
      "metadata": {
        "id": "2TdS-cNhLTcE"
      },
      "execution_count": null,
      "outputs": []
    },
    {
      "cell_type": "code",
      "source": [
        "print(\"\"\"Nama:Afifatuzzahroh Ika Alya\n",
        "Kelas:XI 1\n",
        "Nomor absen:1\"\"\")"
      ],
      "metadata": {
        "colab": {
          "base_uri": "https://localhost:8080/"
        },
        "id": "gf1QU9erLUzW",
        "outputId": "3ed13163-efec-4b6a-a0fe-cec454de8258"
      },
      "execution_count": null,
      "outputs": [
        {
          "output_type": "stream",
          "name": "stdout",
          "text": [
            "Nama:Afifatuzzahroh Ika Alya\n",
            "Kelas:XI 1\n",
            "Nomor absen:1\n"
          ]
        }
      ]
    },
    {
      "cell_type": "code",
      "source": [
        "print(\"Nama: Afifatuzzahroh Ika Alya \\tKelas:X1.1\\tNomor absen:1\")"
      ],
      "metadata": {
        "colab": {
          "base_uri": "https://localhost:8080/"
        },
        "id": "9JcpymLBKwLC",
        "outputId": "b84944ca-7b5e-4ab8-e870-86e313196072"
      },
      "execution_count": null,
      "outputs": [
        {
          "output_type": "stream",
          "name": "stdout",
          "text": [
            "Nama: Afifatuzzahroh Ika Alya \tKelas:X1.1\tNomor absen:1\n"
          ]
        }
      ]
    },
    {
      "cell_type": "code",
      "source": [],
      "metadata": {
        "id": "-pXI6eomIRgQ"
      },
      "execution_count": null,
      "outputs": []
    },
    {
      "cell_type": "code",
      "source": [
        "Harga_telur=2600\n",
        "print(\"Harga telur per 1 kg adalah\",Harga_telur)"
      ],
      "metadata": {
        "colab": {
          "base_uri": "https://localhost:8080/"
        },
        "id": "pWyvsLj1BktH",
        "outputId": "6f43313e-d90a-46a9-9280-1c15dc0ba0e1"
      },
      "execution_count": null,
      "outputs": [
        {
          "output_type": "stream",
          "name": "stdout",
          "text": [
            "Harga telur per 1 kg adalah 2600\n"
          ]
        }
      ]
    },
    {
      "cell_type": "code",
      "source": [
        "nama_pembeli=\"Zalfa\"\n",
        "print(\"Nama pembeli telur adalah \" + nama_pembeli)"
      ],
      "metadata": {
        "colab": {
          "base_uri": "https://localhost:8080/"
        },
        "id": "RrVMDceIDZR1",
        "outputId": "596c5c74-dc1f-4c3a-f1b0-50ae2bc5314f"
      },
      "execution_count": null,
      "outputs": [
        {
          "output_type": "stream",
          "name": "stdout",
          "text": [
            "Nama pembeli telur adalah Zalfa\n"
          ]
        }
      ]
    },
    {
      "cell_type": "code",
      "source": [],
      "metadata": {
        "id": "itL4uQmeDYak"
      },
      "execution_count": null,
      "outputs": []
    },
    {
      "cell_type": "code",
      "source": [
        "BB = 50\n",
        "print(BB)"
      ],
      "metadata": {
        "colab": {
          "base_uri": "https://localhost:8080/"
        },
        "id": "X0DtapbaIRt3",
        "outputId": "b3dc75f8-9973-4ae8-88bf-2a61c665d73e"
      },
      "execution_count": null,
      "outputs": [
        {
          "output_type": "stream",
          "name": "stdout",
          "text": [
            "50\n"
          ]
        }
      ]
    },
    {
      "cell_type": "code",
      "source": [
        "umur = 16\n",
        "print(umur)"
      ],
      "metadata": {
        "id": "-6GsPhUWIfXk"
      },
      "execution_count": null,
      "outputs": []
    },
    {
      "cell_type": "markdown",
      "source": [],
      "metadata": {
        "id": "Fher9PKXB-lD"
      }
    },
    {
      "cell_type": "code",
      "execution_count": null,
      "metadata": {
        "id": "in3Vxr4jExRO",
        "colab": {
          "base_uri": "https://localhost:8080/"
        },
        "outputId": "8a1661a8-6bc2-47b1-962f-b23360e98fa8"
      },
      "outputs": [
        {
          "output_type": "stream",
          "name": "stdout",
          "text": [
            "hallo alya\n",
            "selamat datang alya\n"
          ]
        }
      ],
      "source": [
        "print(\"hallo alya\")\n",
        "print('selamat datang alya')"
      ]
    },
    {
      "cell_type": "code",
      "source": [],
      "metadata": {
        "id": "svdQi3OrDo9B"
      },
      "execution_count": null,
      "outputs": []
    },
    {
      "cell_type": "code",
      "source": [
        "print(\"hallo+nama\")"
      ],
      "metadata": {
        "colab": {
          "base_uri": "https://localhost:8080/"
        },
        "id": "CBKomiTFMxEv",
        "outputId": "0fcb4148-4b32-4d23-afad-412759f40d62"
      },
      "execution_count": null,
      "outputs": [
        {
          "output_type": "stream",
          "name": "stdout",
          "text": [
            "hallo+nama\n"
          ]
        }
      ]
    },
    {
      "cell_type": "markdown",
      "source": [],
      "metadata": {
        "id": "FuiG8kZeBwhw"
      }
    },
    {
      "cell_type": "markdown",
      "source": [
        "KARAKTERISTIK"
      ],
      "metadata": {
        "id": "HwPiKLDWCmRy"
      }
    },
    {
      "cell_type": "code",
      "source": [
        "print('Bu Shinta berkata,\" Semua harus menyimak pelajaran.\"')"
      ],
      "metadata": {
        "colab": {
          "base_uri": "https://localhost:8080/"
        },
        "id": "AVSXR6mDDsZe",
        "outputId": "c73b0b01-626f-469f-95a3-a9f75360423f"
      },
      "execution_count": null,
      "outputs": [
        {
          "output_type": "stream",
          "name": "stdout",
          "text": [
            "Bu Shinta berkata,\" Semua harus menyimak pelajaran.\"\n"
          ]
        }
      ]
    },
    {
      "cell_type": "code",
      "source": [
        "print(\"Bu Shinta berkata,\\semua harus menyimak pelajaran.\\\"\")"
      ],
      "metadata": {
        "colab": {
          "base_uri": "https://localhost:8080/"
        },
        "id": "z_15IEE1DEAa",
        "outputId": "fa1bc8e1-d9b6-451e-e40b-01214be04c12"
      },
      "execution_count": null,
      "outputs": [
        {
          "output_type": "stream",
          "name": "stdout",
          "text": [
            "Bu Shinta berkata,\\semua harus menyimak pelajaran.\"\n"
          ]
        },
        {
          "output_type": "stream",
          "name": "stderr",
          "text": [
            "<>:1: SyntaxWarning: invalid escape sequence '\\s'\n",
            "<>:1: SyntaxWarning: invalid escape sequence '\\s'\n",
            "/tmp/ipython-input-647433253.py:1: SyntaxWarning: invalid escape sequence '\\s'\n",
            "  print(\"Bu Shinta berkata,\\semua harus menyimak pelajaran.\\\"\")\n"
          ]
        }
      ]
    },
    {
      "cell_type": "code",
      "source": [
        "print(\"ja'far Shodiq\")"
      ],
      "metadata": {
        "colab": {
          "base_uri": "https://localhost:8080/"
        },
        "id": "ERia5qTLDE80",
        "outputId": "98dfb62a-3815-473b-a1c2-3aad6a41f9a1"
      },
      "execution_count": null,
      "outputs": [
        {
          "output_type": "stream",
          "name": "stdout",
          "text": [
            "ja'far Shodiq\n"
          ]
        }
      ]
    },
    {
      "cell_type": "code",
      "source": [
        "print('Ja\\'far Shodiq')"
      ],
      "metadata": {
        "colab": {
          "base_uri": "https://localhost:8080/"
        },
        "id": "rk8ZizpgCtZb",
        "outputId": "a840bf5c-3ff0-422f-b47e-ac716c2e34d7"
      },
      "execution_count": null,
      "outputs": [
        {
          "output_type": "stream",
          "name": "stdout",
          "text": [
            "Ja'far Shodiq\n"
          ]
        }
      ]
    },
    {
      "cell_type": "markdown",
      "source": [
        "PARAMETER VARIABEL"
      ],
      "metadata": {
        "id": "meFm8dvCIRCj"
      }
    },
    {
      "cell_type": "code",
      "source": [
        "Tahun = 2000\n",
        "Bulan =\"Febuari\"\n",
        "Tanggal =18\n",
        "\n",
        "print(Tanggal, end=\" \")\n",
        "print(Bulan, end=\" \")\n",
        "print(Tahun)"
      ],
      "metadata": {
        "colab": {
          "base_uri": "https://localhost:8080/"
        },
        "id": "rBegix3mImon",
        "outputId": "94828d4b-d1cd-4015-afd2-7b431bb5247f"
      },
      "execution_count": null,
      "outputs": [
        {
          "output_type": "stream",
          "name": "stdout",
          "text": [
            "18 Febuari 2000\n"
          ]
        }
      ]
    },
    {
      "cell_type": "code",
      "source": [
        "Tahun=2000\n",
        "Bulan=\"Febuari\"\n",
        "Tanggal=18\n",
        "\n",
        "\n",
        "print(Tanggal , Bulan ,Tahun, sep=\"/\")\n"
      ],
      "metadata": {
        "colab": {
          "base_uri": "https://localhost:8080/"
        },
        "id": "ChxPdIy6J-uO",
        "outputId": "5aff74f8-fd8a-4bdd-c4a0-847d8b3fd7f8"
      },
      "execution_count": null,
      "outputs": [
        {
          "output_type": "stream",
          "name": "stdout",
          "text": [
            "18/Febuari/2000\n"
          ]
        }
      ]
    },
    {
      "cell_type": "markdown",
      "source": [
        "Latihan\n",
        "\n",
        "Tanggal-Bulan"
      ],
      "metadata": {
        "id": "06Y2GFUkBwW0"
      }
    },
    {
      "cell_type": "markdown",
      "source": [],
      "metadata": {
        "id": "8UCTUKRjMTue"
      }
    },
    {
      "cell_type": "markdown",
      "source": [
        "Tugas\n"
      ],
      "metadata": {
        "id": "y6xy2i5AMUQD"
      }
    },
    {
      "cell_type": "code",
      "source": [
        "print('Bu Shinta berkata,\"berikut adalah judul pelajaran hari senin selasa rabu silahkan disimpan di laptop masing masing di folder local disk D:\\\\Jadwal pelajaran\\\\Kelas XI Semester 1')\n",
        "\n",
        "print(\"Jadwal Pelajaran Mingguan\")\n",
        "print(\"==========================\")\n",
        "print(\"Jam\\tSenin\\t\\tSelasa\\t\\tRabu\")\n",
        "print(\"Jam 1\\tMatematika\\tBahasa\\t\\tInformatika\")\n",
        "print(\"Jam 2\\tBhs Ing.\\tSejarah\")\n",
        "print(\"Jam 3\\tinformatika\\tOlahraga\\tbiologi\")\n",
        "\n"
      ],
      "metadata": {
        "colab": {
          "base_uri": "https://localhost:8080/"
        },
        "id": "5QOw6JixMZ1R",
        "outputId": "288893eb-8768-4ef2-bd98-bb0fd161b026"
      },
      "execution_count": null,
      "outputs": [
        {
          "output_type": "stream",
          "name": "stdout",
          "text": [
            "Bu Shinta berkata,\"berikut adalah judul pelajaran hari senin selasa rabu silahkan disimpan di laptop masing masing di folder local disk D:\\Jadwal pelajaran\\Kelas XI Semester 1\n",
            "Jadwal Pelajaran Mingguan\n",
            "==========================\n",
            "Jam\tSenin\t\tSelasa\t\tRabu\n",
            "Jam 1\tMatematika\tBahasa\t\tInformatika\n",
            "Jam 2\tBhs Ing.\tSejarah\n",
            "Jam 3\tinformatika\tOlahraga\tbiologi\n"
          ]
        }
      ]
    },
    {
      "cell_type": "code",
      "source": [],
      "metadata": {
        "id": "4x6-GKCoO1OH"
      },
      "execution_count": null,
      "outputs": []
    }
  ]
}